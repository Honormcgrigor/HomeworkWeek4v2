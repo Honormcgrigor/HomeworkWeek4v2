{
 "cells": [
  {
   "attachments": {},
   "cell_type": "markdown",
   "id": "06d36a47",
   "metadata": {},
   "source": [
    "## Question 1 [20 points] \n",
    "## In no more than 500 words, explain the differences between a Jupyter Notebook (.ipynb extension) and a Python file (.py extension). Focus on the advantages and disadvantages of one or the other, particularly for data analysts/scientists. You are encouraged to use examples and screenshots of the different scripts to support your arguments. \n",
    "\n",
    "While Python files can be read and edited directly in an IDE, such as Pycharm, Jupyter Notebooks must be accessed by running the command ‘jupyter notebook’ in the terminal, from which a url will be generated, taking the user to the Jupter Notebook in webpage. \n",
    "\n",
    "Jupyter notebooks are best for presenting and explaining code, as the code can be broken down into small segments (cells). The code can also be run in any order according to the segments, which can allow for demonstrations of variations in the code. In addition, the Jupyter Notebook format supports different text types (‘Markdown’, ‘Code’, ‘Heading’, ‘Raw NBConvert’)  with text and images being able to be integrated throughout the notebook. In contrast, Python files are run as the full code in the file, unless code is commented out using the # key. Notes in Python files separate from the actual code must be commented out using # or “””. When code is run, the output appears directly below the cell that has been run in Jupyter, or in the Run tool window in Python. It should be noted that for Jupyter the output appears immediately, whereas in order to get an output in Python the programmer must use print(). \n",
    "\n",
    "In my experience, Python files are better for researching, working on and developing code, and Jupyter notebooks are best for presenting and explaining code. In this way, Python files are best used by data and software engineers, and Jupyter files are an appropriate tool for data analysts and data scientists when presenting their program/code to lay colleagues.  \n"
   ]
  },
  {
   "cell_type": "markdown",
   "id": "af400a60",
   "metadata": {},
   "source": [
    "## Question 2 [10 points] \n",
    "## What is the difference between a Pandas DataFrame and a Pandas series. Show an example of how you create each of them. \n",
    "\n",
    "A Panda series is a column of data. A Pandas DataFrame is a collection of Pandas series. Combining more than one Pandas series results in a Pandas DataFrame. A Pandas DataFrame is presentation of the data in rows and columns. To create a Pandas DataFrame use the syntax:\n"
   ]
  },
  {
   "cell_type": "code",
   "execution_count": null,
   "id": "9c681247",
   "metadata": {},
   "outputs": [],
   "source": [
    "import pandas as pd\n",
    "DataFrame = pd.read_csv(‘file location’)\n",
    "DataFrame.head()"
   ]
  },
  {
   "cell_type": "markdown",
   "id": "9f1a5639",
   "metadata": {},
   "source": [
    "The final line (DataFrame.head()) will give you the first five and last five rows of the data. \n",
    "\n",
    "To create a Pandas Series:"
   ]
  },
  {
   "cell_type": "code",
   "execution_count": null,
   "id": "86c90d87",
   "metadata": {},
   "outputs": [],
   "source": [
    "import pandas as pd\n",
    "\n",
    "example = ['first_item', 'second_item', 'third_item']\n",
    "pd.Series(example)"
   ]
  },
  {
   "cell_type": "markdown",
   "id": "5094aab5",
   "metadata": {},
   "source": [
    "## Question 3 [10 points] \n",
    "## Starting from the argument that a Pandas DataFrame represents rectangular data, use the internet and other resources to describe in no more than a few sentences the difference between rectangular and non-rectangular data. \n",
    "\n",
    "As explained on (https://bookdown.org/hneth/ds4psy/1.5-basics:tables.html), each record in a Pandas DataFrame is a ‘one-dimensional […] linear vector’. When combined in the DataFrame, the data becomes ‘two-dimensional’, as it is now in rows and columns. This is a rectangular data structure. Non-rectangular data is not ordered in the same way. It is made up of multiple data structures, normally stored in lists. "
   ]
  },
  {
   "cell_type": "markdown",
   "id": "3690db3c",
   "metadata": {},
   "source": [
    "## Question 4 [10 points] \n",
    "## Starting from the data visualisation usage from Session 2, give examples of when figures could be: \n",
    "### 1.\tOf use to the data scientist to identify patterns in the data/highlight the important parts of a data set:\n",
    "Scattergrams are very good for showing whether two variables have a relationship, and showing distinct patterns. They are also useful for highlighting outliers. Similarly, the whiskers on box plots are very useful for assessing the reliability of data. Box plots also communicate clearly descriptive statistics as part of the data, by showing the mean, interquartile range, and skewness visually.\n",
    "\n",
    "### 2.\tTell a story and create business presentations. \n",
    "Line charts and bar charts are useful for business presentations. Line charts are excellent for showing trends in data, particularly over a period of time. The axis can begin at any point, so they can be very useful in illustrating specific changes in the data. Bar charts are very simple and clear. "
   ]
  },
  {
   "cell_type": "markdown",
   "id": "bb18f7ad",
   "metadata": {},
   "source": [
    "## Question 5 [50 points]\n",
    "## Each sub-question is worth 10 points. \n"
   ]
  },
  {
   "cell_type": "code",
   "execution_count": 1,
   "id": "de09f9c3",
   "metadata": {},
   "outputs": [
    {
     "data": {
      "text/html": [
       "<div>\n",
       "<style scoped>\n",
       "    .dataframe tbody tr th:only-of-type {\n",
       "        vertical-align: middle;\n",
       "    }\n",
       "\n",
       "    .dataframe tbody tr th {\n",
       "        vertical-align: top;\n",
       "    }\n",
       "\n",
       "    .dataframe thead th {\n",
       "        text-align: right;\n",
       "    }\n",
       "</style>\n",
       "<table border=\"1\" class=\"dataframe\">\n",
       "  <thead>\n",
       "    <tr style=\"text-align: right;\">\n",
       "      <th></th>\n",
       "      <th>survived</th>\n",
       "      <th>pclass</th>\n",
       "      <th>sex</th>\n",
       "      <th>age</th>\n",
       "      <th>sibsp</th>\n",
       "      <th>parch</th>\n",
       "      <th>fare</th>\n",
       "      <th>embarked</th>\n",
       "      <th>class</th>\n",
       "      <th>who</th>\n",
       "      <th>adult_male</th>\n",
       "      <th>deck</th>\n",
       "      <th>embark_town</th>\n",
       "      <th>alive</th>\n",
       "      <th>alone</th>\n",
       "    </tr>\n",
       "  </thead>\n",
       "  <tbody>\n",
       "    <tr>\n",
       "      <th>0</th>\n",
       "      <td>0</td>\n",
       "      <td>3</td>\n",
       "      <td>male</td>\n",
       "      <td>22.0</td>\n",
       "      <td>1</td>\n",
       "      <td>0</td>\n",
       "      <td>7.2500</td>\n",
       "      <td>S</td>\n",
       "      <td>Third</td>\n",
       "      <td>man</td>\n",
       "      <td>True</td>\n",
       "      <td>NaN</td>\n",
       "      <td>Southampton</td>\n",
       "      <td>no</td>\n",
       "      <td>False</td>\n",
       "    </tr>\n",
       "    <tr>\n",
       "      <th>1</th>\n",
       "      <td>1</td>\n",
       "      <td>1</td>\n",
       "      <td>female</td>\n",
       "      <td>38.0</td>\n",
       "      <td>1</td>\n",
       "      <td>0</td>\n",
       "      <td>71.2833</td>\n",
       "      <td>C</td>\n",
       "      <td>First</td>\n",
       "      <td>woman</td>\n",
       "      <td>False</td>\n",
       "      <td>C</td>\n",
       "      <td>Cherbourg</td>\n",
       "      <td>yes</td>\n",
       "      <td>False</td>\n",
       "    </tr>\n",
       "    <tr>\n",
       "      <th>2</th>\n",
       "      <td>1</td>\n",
       "      <td>3</td>\n",
       "      <td>female</td>\n",
       "      <td>26.0</td>\n",
       "      <td>0</td>\n",
       "      <td>0</td>\n",
       "      <td>7.9250</td>\n",
       "      <td>S</td>\n",
       "      <td>Third</td>\n",
       "      <td>woman</td>\n",
       "      <td>False</td>\n",
       "      <td>NaN</td>\n",
       "      <td>Southampton</td>\n",
       "      <td>yes</td>\n",
       "      <td>True</td>\n",
       "    </tr>\n",
       "    <tr>\n",
       "      <th>3</th>\n",
       "      <td>1</td>\n",
       "      <td>1</td>\n",
       "      <td>female</td>\n",
       "      <td>35.0</td>\n",
       "      <td>1</td>\n",
       "      <td>0</td>\n",
       "      <td>53.1000</td>\n",
       "      <td>S</td>\n",
       "      <td>First</td>\n",
       "      <td>woman</td>\n",
       "      <td>False</td>\n",
       "      <td>C</td>\n",
       "      <td>Southampton</td>\n",
       "      <td>yes</td>\n",
       "      <td>False</td>\n",
       "    </tr>\n",
       "    <tr>\n",
       "      <th>4</th>\n",
       "      <td>0</td>\n",
       "      <td>3</td>\n",
       "      <td>male</td>\n",
       "      <td>35.0</td>\n",
       "      <td>0</td>\n",
       "      <td>0</td>\n",
       "      <td>8.0500</td>\n",
       "      <td>S</td>\n",
       "      <td>Third</td>\n",
       "      <td>man</td>\n",
       "      <td>True</td>\n",
       "      <td>NaN</td>\n",
       "      <td>Southampton</td>\n",
       "      <td>no</td>\n",
       "      <td>True</td>\n",
       "    </tr>\n",
       "    <tr>\n",
       "      <th>...</th>\n",
       "      <td>...</td>\n",
       "      <td>...</td>\n",
       "      <td>...</td>\n",
       "      <td>...</td>\n",
       "      <td>...</td>\n",
       "      <td>...</td>\n",
       "      <td>...</td>\n",
       "      <td>...</td>\n",
       "      <td>...</td>\n",
       "      <td>...</td>\n",
       "      <td>...</td>\n",
       "      <td>...</td>\n",
       "      <td>...</td>\n",
       "      <td>...</td>\n",
       "      <td>...</td>\n",
       "    </tr>\n",
       "    <tr>\n",
       "      <th>886</th>\n",
       "      <td>0</td>\n",
       "      <td>2</td>\n",
       "      <td>male</td>\n",
       "      <td>27.0</td>\n",
       "      <td>0</td>\n",
       "      <td>0</td>\n",
       "      <td>13.0000</td>\n",
       "      <td>S</td>\n",
       "      <td>Second</td>\n",
       "      <td>man</td>\n",
       "      <td>True</td>\n",
       "      <td>NaN</td>\n",
       "      <td>Southampton</td>\n",
       "      <td>no</td>\n",
       "      <td>True</td>\n",
       "    </tr>\n",
       "    <tr>\n",
       "      <th>887</th>\n",
       "      <td>1</td>\n",
       "      <td>1</td>\n",
       "      <td>female</td>\n",
       "      <td>19.0</td>\n",
       "      <td>0</td>\n",
       "      <td>0</td>\n",
       "      <td>30.0000</td>\n",
       "      <td>S</td>\n",
       "      <td>First</td>\n",
       "      <td>woman</td>\n",
       "      <td>False</td>\n",
       "      <td>B</td>\n",
       "      <td>Southampton</td>\n",
       "      <td>yes</td>\n",
       "      <td>True</td>\n",
       "    </tr>\n",
       "    <tr>\n",
       "      <th>888</th>\n",
       "      <td>0</td>\n",
       "      <td>3</td>\n",
       "      <td>female</td>\n",
       "      <td>NaN</td>\n",
       "      <td>1</td>\n",
       "      <td>2</td>\n",
       "      <td>23.4500</td>\n",
       "      <td>S</td>\n",
       "      <td>Third</td>\n",
       "      <td>woman</td>\n",
       "      <td>False</td>\n",
       "      <td>NaN</td>\n",
       "      <td>Southampton</td>\n",
       "      <td>no</td>\n",
       "      <td>False</td>\n",
       "    </tr>\n",
       "    <tr>\n",
       "      <th>889</th>\n",
       "      <td>1</td>\n",
       "      <td>1</td>\n",
       "      <td>male</td>\n",
       "      <td>26.0</td>\n",
       "      <td>0</td>\n",
       "      <td>0</td>\n",
       "      <td>30.0000</td>\n",
       "      <td>C</td>\n",
       "      <td>First</td>\n",
       "      <td>man</td>\n",
       "      <td>True</td>\n",
       "      <td>C</td>\n",
       "      <td>Cherbourg</td>\n",
       "      <td>yes</td>\n",
       "      <td>True</td>\n",
       "    </tr>\n",
       "    <tr>\n",
       "      <th>890</th>\n",
       "      <td>0</td>\n",
       "      <td>3</td>\n",
       "      <td>male</td>\n",
       "      <td>32.0</td>\n",
       "      <td>0</td>\n",
       "      <td>0</td>\n",
       "      <td>7.7500</td>\n",
       "      <td>Q</td>\n",
       "      <td>Third</td>\n",
       "      <td>man</td>\n",
       "      <td>True</td>\n",
       "      <td>NaN</td>\n",
       "      <td>Queenstown</td>\n",
       "      <td>no</td>\n",
       "      <td>True</td>\n",
       "    </tr>\n",
       "  </tbody>\n",
       "</table>\n",
       "<p>891 rows × 15 columns</p>\n",
       "</div>"
      ],
      "text/plain": [
       "     survived  pclass     sex   age  sibsp  parch     fare embarked   class  \\\n",
       "0           0       3    male  22.0      1      0   7.2500        S   Third   \n",
       "1           1       1  female  38.0      1      0  71.2833        C   First   \n",
       "2           1       3  female  26.0      0      0   7.9250        S   Third   \n",
       "3           1       1  female  35.0      1      0  53.1000        S   First   \n",
       "4           0       3    male  35.0      0      0   8.0500        S   Third   \n",
       "..        ...     ...     ...   ...    ...    ...      ...      ...     ...   \n",
       "886         0       2    male  27.0      0      0  13.0000        S  Second   \n",
       "887         1       1  female  19.0      0      0  30.0000        S   First   \n",
       "888         0       3  female   NaN      1      2  23.4500        S   Third   \n",
       "889         1       1    male  26.0      0      0  30.0000        C   First   \n",
       "890         0       3    male  32.0      0      0   7.7500        Q   Third   \n",
       "\n",
       "       who  adult_male deck  embark_town alive  alone  \n",
       "0      man        True  NaN  Southampton    no  False  \n",
       "1    woman       False    C    Cherbourg   yes  False  \n",
       "2    woman       False  NaN  Southampton   yes   True  \n",
       "3    woman       False    C  Southampton   yes  False  \n",
       "4      man        True  NaN  Southampton    no   True  \n",
       "..     ...         ...  ...          ...   ...    ...  \n",
       "886    man        True  NaN  Southampton    no   True  \n",
       "887  woman       False    B  Southampton   yes   True  \n",
       "888  woman       False  NaN  Southampton    no  False  \n",
       "889    man        True    C    Cherbourg   yes   True  \n",
       "890    man        True  NaN   Queenstown    no   True  \n",
       "\n",
       "[891 rows x 15 columns]"
      ]
     },
     "execution_count": 1,
     "metadata": {},
     "output_type": "execute_result"
    }
   ],
   "source": [
    "import pandas as pd\n",
    "titanic = pd.read_csv('https://raw.githubusercontent.com/mwaskom/seaborn-data/master/titanic.csv')\n",
    "titanic "
   ]
  },
  {
   "cell_type": "markdown",
   "id": "d6ceaa95",
   "metadata": {},
   "source": [
    "## 1. How many columns and rows does the data have? \n",
    "15 columns\n",
    "891 rows\n"
   ]
  },
  {
   "cell_type": "code",
   "execution_count": null,
   "id": "debcd636",
   "metadata": {},
   "outputs": [],
   "source": [
    "titanic.shape"
   ]
  },
  {
   "cell_type": "markdown",
   "id": "c2b03794",
   "metadata": {},
   "source": [
    "## 2. Get a sense of your data and find the min, max, and count/mean depending on the data type. "
   ]
  },
  {
   "cell_type": "code",
   "execution_count": null,
   "id": "d91be38c",
   "metadata": {},
   "outputs": [],
   "source": [
    "titanic['age'].min()\n",
    "# youngest Titanic passenger (in years)"
   ]
  },
  {
   "cell_type": "code",
   "execution_count": null,
   "id": "b18eed85",
   "metadata": {},
   "outputs": [],
   "source": [
    "titanic['age'].max()\n",
    "# oldest Titanic passenger (in years)"
   ]
  },
  {
   "cell_type": "code",
   "execution_count": null,
   "id": "07a781e2",
   "metadata": {},
   "outputs": [],
   "source": [
    "titanic['fare'].mean()"
   ]
  },
  {
   "cell_type": "code",
   "execution_count": null,
   "id": "48a8d94e",
   "metadata": {},
   "outputs": [],
   "source": [
    "titanic.describe()"
   ]
  },
  {
   "cell_type": "markdown",
   "id": "c338556b",
   "metadata": {},
   "source": [
    "## 3.\tGive an overview (code and an explanation) of all missing values in the data. "
   ]
  },
  {
   "cell_type": "code",
   "execution_count": null,
   "id": "f7beba95",
   "metadata": {},
   "outputs": [],
   "source": [
    "len(titanic)-titanic.count()"
   ]
  },
  {
   "cell_type": "code",
   "execution_count": null,
   "id": "887e9e85",
   "metadata": {},
   "outputs": [],
   "source": [
    "titanic.age.isna().count()"
   ]
  },
  {
   "cell_type": "code",
   "execution_count": null,
   "id": "5d039c6b",
   "metadata": {},
   "outputs": [],
   "source": [
    "titanic.age.count()"
   ]
  },
  {
   "cell_type": "markdown",
   "id": "c8c039fc",
   "metadata": {},
   "source": [
    "## 4.\tDelete the rows where you do not have information about the age of the person. Then group the passengers in a 10 year age range (for example, you can do something like 0 – 10, 11 – 20, 21 – 30, etc). "
   ]
  },
  {
   "cell_type": "code",
   "execution_count": 2,
   "id": "4567d8bd",
   "metadata": {},
   "outputs": [
    {
     "data": {
      "text/plain": [
       "(891, 15)"
      ]
     },
     "execution_count": 2,
     "metadata": {},
     "output_type": "execute_result"
    }
   ],
   "source": [
    "test_titanic = titanic.copy()\n",
    "test_titanic.shape"
   ]
  },
  {
   "cell_type": "code",
   "execution_count": 3,
   "id": "c10158f7",
   "metadata": {},
   "outputs": [],
   "source": [
    "test_titanic.dropna(subset=['age'], inplace=True)"
   ]
  },
  {
   "cell_type": "code",
   "execution_count": null,
   "id": "01e05dcc",
   "metadata": {},
   "outputs": [],
   "source": [
    "test_titanic.shape"
   ]
  },
  {
   "cell_type": "code",
   "execution_count": 4,
   "id": "d0b9cf24",
   "metadata": {},
   "outputs": [
    {
     "data": {
      "text/plain": [
       "age_range\n",
       "0-9       62\n",
       "10-19    102\n",
       "20-29    220\n",
       "30-39    167\n",
       "40-49     89\n",
       "50-59     48\n",
       "60-69     19\n",
       "70-79      6\n",
       "80+        1\n",
       "Name: age, dtype: int64"
      ]
     },
     "execution_count": 4,
     "metadata": {},
     "output_type": "execute_result"
    }
   ],
   "source": [
    "def age_function(age):\n",
    "    if age >= 0 and age < 10:\n",
    "        AgeGroup = '0-9'\n",
    "    elif age >= 10 and age < 20:\n",
    "        AgeGroup = '10-19'\n",
    "    elif age >= 20 and age < 30:\n",
    "        AgeGroup = '20-29'\n",
    "    elif age >= 30 and age < 40:\n",
    "        AgeGroup = '30-39'\n",
    "    elif age >= 40 and age < 50:\n",
    "        AgeGroup = '40-49'\n",
    "    elif age >= 50 and age < 60:\n",
    "        AgeGroup = '50-59'\n",
    "    elif age >= 60 and age < 70:\n",
    "        AgeGroup = '60-69'\n",
    "    elif age >= 70 and age < 80:\n",
    "        AgeGroup = '70-79'\n",
    "    else:\n",
    "        AgeGroup = '80+'\n",
    "    return AgeGroup\n",
    "\n",
    "test_titanic['age_range'] = titanic['age'].apply(age_function)\n",
    "age_range_var = test_titanic.groupby('age_range')['age'].count()\n",
    "age_range_var"
   ]
  },
  {
   "cell_type": "code",
   "execution_count": 16,
   "id": "3a3a1d37",
   "metadata": {},
   "outputs": [],
   "source": [
    "\n",
    "females = [test_titanic['sex']]=='female'\n",
    "males = [test_titanic['sex']]=='male'\n",
    "first_class = [test_titanic['class']]=='First'\n",
    "second_class = [test_titanic['class']]=='Second'\n",
    "third_class = [test_titanic['class']]=='Third'\n",
    "\n",
    "\n",
    "\n",
    "\n"
   ]
  }
 ],
 "metadata": {
  "kernelspec": {
   "display_name": "Python 3 (ipykernel)",
   "language": "python",
   "name": "python3"
  },
  "language_info": {
   "codemirror_mode": {
    "name": "ipython",
    "version": 3
   },
   "file_extension": ".py",
   "mimetype": "text/x-python",
   "name": "python",
   "nbconvert_exporter": "python",
   "pygments_lexer": "ipython3",
   "version": "3.10.9"
  }
 },
 "nbformat": 4,
 "nbformat_minor": 5
}
